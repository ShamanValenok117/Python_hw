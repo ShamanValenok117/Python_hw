{
 "cells": [
  {
   "cell_type": "markdown",
   "metadata": {},
   "source": [
    "### Домашнее задание\n",
    "\n",
    "1. Переведите содержимое файла purchase_log.txt в словарь purchases вида:\n",
    "\n",
    "```\n",
    "        {‘1840e0b9d4’: ‘Продукты’, …}\n",
    "```\n",
    "\n",
    "2. Для каждого user_id в файле visit_log.csv определите третий столбец с категорией покупки (если покупка была, сам файл visit_log.csv изменять не надо). Запишите в файл funnel.csv визиты из файла visit_log.csv, в которых были покупки с указанием категории.\n",
    "    Учтите условия на данные:\n",
    "    * содержимое purchase_log.txt помещается в оперативную память компьютера\n",
    "    * содержимое visit_log.csv - нет; используйте только построчную обработку этого файла\n"
   ]
  },
  {
   "cell_type": "code",
   "execution_count": 104,
   "metadata": {},
   "outputs": [],
   "source": [
    "# ---- Задание 1. Переведите содержимое файла purchase_log.txt в словарь purchases  ---- \n",
    "f = open('purchase_log.txt' , 'r', encoding = 'utf-8')\n",
    "purchases ={}\n",
    "\n",
    "import json \n",
    "#next(f)\n",
    "for i, line in enumerate(f):\n",
    "    #print(i, line, end=\"\")\n",
    "    user, value = json.loads(line).values()\n",
    "    purchases[user] = value\n",
    "    #if i > 3: break\n",
    "    \n",
    "# for key,C in purchases.items():\n",
    "#     print(\"{0}: {1}\".format(key,C))\n",
    "    "
   ]
  },
  {
   "cell_type": "code",
   "execution_count": 105,
   "metadata": {},
   "outputs": [
    {
     "name": "stdout",
     "output_type": "stream",
     "text": [
      "finished\n"
     ]
    }
   ],
   "source": [
    "#---- Задание 2. Для каждого user_id в файле visit_log.csv определите третий столбец с категорией покупки  ---- \n",
    "f = open('purchase_log.txt' , 'r', encoding = 'utf-8')\n",
    "p = open('visit_log.csv' , 'r', encoding = 'utf-8')\n",
    "a = open('funnel.csv' , 'w')\n",
    "\n",
    "for i, line in enumerate(p):\n",
    "    #print(i, line, end=\"\")\n",
    "    a1, a2 = line.strip().split(',')\n",
    "    string = str(a1) + ',' + str(a2)\n",
    "    a.write(string)\n",
    "    \n",
    "    if a1 in purchases:\n",
    "        value = purchases[a1]\n",
    "        string_2 = ',' + str(value) + '\\n'\n",
    "        a.write(string_2)\n",
    "    else: a.write('\\n')\n",
    "    #if i > 10: break\n",
    "print('finished')"
   ]
  }
 ],
 "metadata": {
  "kernelspec": {
   "display_name": "Python 3",
   "language": "python",
   "name": "python3"
  },
  "language_info": {
   "codemirror_mode": {
    "name": "ipython",
    "version": 3
   },
   "file_extension": ".py",
   "mimetype": "text/x-python",
   "name": "python",
   "nbconvert_exporter": "python",
   "pygments_lexer": "ipython3",
   "version": "3.8.5"
  }
 },
 "nbformat": 4,
 "nbformat_minor": 4
}
