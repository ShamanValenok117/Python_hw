{
 "cells": [
  {
   "cell_type": "markdown",
   "metadata": {},
   "source": [
    "# Домашнее задание к лекции \"Введение в типы данных и циклы. Часть 2\""
   ]
  },
  {
   "cell_type": "markdown",
   "metadata": {},
   "source": [
    "## Задание 1\n",
    "Дана переменная, в которой хранится словарь, содержащий гео-метки для каждого пользователя (пример структуры данных приведен ниже). Вам необходимо написать программу, которая выведет на экран множество уникальных гео-меток всех пользователей.\n",
    "\n",
    "Пример работы программы:  \n",
    "\n",
    "```\n",
    "ids = {'user1': [213, 213, 213, 15, 213], \n",
    "       'user2': [54, 54, 119, 119, 119], \n",
    "       'user3': [213, 98, 98, 35]}\n",
    "```\n",
    "\n",
    "Результат: \n",
    "`{98, 35, 15, 213, 54, 119}`"
   ]
  },
  {
   "cell_type": "code",
   "execution_count": 7,
   "metadata": {},
   "outputs": [
    {
     "name": "stdout",
     "output_type": "stream",
     "text": [
      "{98, 35, 15, 213, 54, 119}\n"
     ]
    }
   ],
   "source": [
    "ids = {'user1': [213, 213, 213, 15, 213], \n",
    "       'user2': [54, 54, 119, 119, 119], \n",
    "       'user3': [213, 98, 98, 35]}\n",
    "\n",
    "A=[] #В этот список будем заливать все метрики словаря\n",
    "\n",
    "for user,data in ids.items():\n",
    "    A.append(data)\n",
    "\n",
    "B=set(sum(A,[])) #создаем множество из метрик\n",
    "print(B)"
   ]
  },
  {
   "cell_type": "markdown",
   "metadata": {},
   "source": [
    "## Задание 2\n",
    "Дана переменная, в которой хранится список поисковых запросов пользователя (пример структуры данных приведен ниже). Вам необходимо написать программу, которая выведет на экран распределение количества слов в запросах в требуемом виде.\n",
    "\n",
    "Пример работы программы:  \n",
    "\n",
    "```\n",
    "queries = [\n",
    "    'смотреть сериалы онлайн',\n",
    "    'новости спорта',\n",
    "    'афиша кино',\n",
    "    'курс доллара',\n",
    "    'сериалы этим летом',\n",
    "    'курс по питону',\n",
    "    'сериалы про спорт',\n",
    "]\n",
    "```\n",
    "\n",
    "Результат: \n",
    "```\n",
    "Поисковых запросов, содержащих 2 слов(а): 42.86%\n",
    "Поисковых запросов, содержащих 3 слов(а): 57.14%\n",
    "```"
   ]
  },
  {
   "cell_type": "code",
   "execution_count": 6,
   "metadata": {},
   "outputs": [
    {
     "name": "stdout",
     "output_type": "stream",
     "text": [
      "Поисковых запросов, содержащих  2  слов(а):  42.86 %\n",
      "Поисковых запросов, содержащих  3  слов(а):  57.14 %\n"
     ]
    }
   ],
   "source": [
    "#----- Базовое решение\n",
    "\n",
    "queries = [\n",
    "    'смотреть сериалы онлайн',\n",
    "    'новости спорта',\n",
    "    'афиша кино',\n",
    "    'курс доллара',\n",
    "    'сериалы этим летом',\n",
    "    'курс по питону',\n",
    "    'сериалы про спорт',\n",
    "]\n",
    "\n",
    "B=[] #Список количества слов\n",
    "\n",
    "for element in queries:\n",
    "    B.append(len(element.split(' ')))\n",
    "\n",
    "C=set(B) #множество, чтобы определить сколько вообще слов в запросах\n",
    "\n",
    "for element in C:\n",
    "    print('Поисковых запросов, содержащих ', element,' слов(а): ',round(B.count(element) / len(B) * 100,2),'%')\n",
    "    \n"
   ]
  },
  {
   "cell_type": "code",
   "execution_count": 11,
   "metadata": {},
   "outputs": [
    {
     "name": "stdout",
     "output_type": "stream",
     "text": [
      "Поисковых запросов, содержащих  2  слов(а):  71.43 %\n",
      "Поисковых запросов, содержащих  3  слов(а):  28.57 %\n"
     ]
    }
   ],
   "source": [
    "#----- Улучшенное решение\n",
    "\n",
    "debug = False #Для дебага, аналог #ifdef\n",
    "queries = [\n",
    "    'смотреть сериалы онлайн',\n",
    "    'новости спорта',\n",
    "    'афиша кино',\n",
    "    'курс доллара',\n",
    "    'сериалы этим летом',\n",
    "    'курс по питону',\n",
    "    'сериалы про спорт',\n",
    "]\n",
    "\n",
    "A=[] #!Служебный! - для сплита запросов\n",
    "B=[] #Список количества слов\n",
    "\n",
    "for element in queries:\n",
    "    A=element.split(' ')\n",
    "    if debug: print(A)\n",
    "    for element in A:\n",
    "        if len(element) == 2 or len(element) == 3: \n",
    "            if debug:print('Господин, я нашел слово из 2 или 3 букв, можно его сжечь?')\n",
    "            del(A[A.index(element)]) #Согласие получено\n",
    "    if debug:print(A)\n",
    "    B.append(len(A))\n",
    "\n",
    "C=set(B) #множество, чтобы определить сколько вообще слов в запросах\n",
    "\n",
    "for element in C:\n",
    "    print('Поисковых запросов, содержащих ', element,' слов(а): ',round(B.count(element) / len(B) * 100,2),'%')\n",
    "    \n",
    "if debug: print(B,C)"
   ]
  },
  {
   "cell_type": "markdown",
   "metadata": {},
   "source": [
    "## Задание 3\n",
    "Дана переменная, в которой хранится информация о затратах и доходе рекламных кампаний по различным источникам. Необходимо дополнить исходную структуру показателем [ROI](https://ru.wikipedia.org/wiki/%D0%9E%D0%BA%D1%83%D0%BF%D0%B0%D0%B5%D0%BC%D0%BE%D1%81%D1%82%D1%8C_%D0%B8%D0%BD%D0%B2%D0%B5%D1%81%D1%82%D0%B8%D1%86%D0%B8%D0%B9), который рассчитаем по формуле: **(revenue / cost - 1) * 100**\n",
    "\n",
    "Пример работы программы:  \n",
    "\n",
    "```\n",
    "results = {\n",
    "    'vk': {'revenue': 103, 'cost': 98},\n",
    "    'yandex': {'revenue': 179, 'cost': 153},\n",
    "    'facebook': {'revenue': 103, 'cost': 110},\n",
    "    'adwords': {'revenue': 35, 'cost': 34},\n",
    "    'twitter': {'revenue': 11, 'cost': 24},\n",
    "}\n",
    "```\n",
    "\n",
    "Результат: \n",
    "```\n",
    "{'adwords': {'ROI': 2.94, 'cost': 34, 'revenue': 35},\n",
    " 'facebook': {'ROI': -6.36, 'cost': 110, 'revenue': 103},\n",
    " 'twitter': {'ROI': -54.17, 'cost': 24, 'revenue': 11},\n",
    " 'vk': {'ROI': 5.1, 'cost': 98, 'revenue': 103},\n",
    " 'yandex': {'ROI': 16.99, 'cost': 153, 'revenue': 179}}\n",
    "```"
   ]
  },
  {
   "cell_type": "code",
   "execution_count": 3,
   "metadata": {},
   "outputs": [
    {
     "name": "stdout",
     "output_type": "stream",
     "text": [
      "{\n",
      "vk: {'ROI': 5.1, 'revenue': 103, 'cost': 98}\n",
      "yandex: {'ROI': 16.99, 'revenue': 179, 'cost': 153}\n",
      "facebook: {'ROI': -6.36, 'revenue': 103, 'cost': 110}\n",
      "adwords: {'ROI': 2.94, 'revenue': 35, 'cost': 34}\n",
      "twitter: {'ROI': -54.17, 'revenue': 11, 'cost': 24}\n",
      "}\n"
     ]
    }
   ],
   "source": [
    "debug = False #Для дебага, аналог #ifdef\n",
    "\n",
    "results = {\n",
    "    'vk': {'revenue': 103, 'cost': 98},\n",
    "    'yandex': {'revenue': 179, 'cost': 153},\n",
    "    'facebook': {'revenue': 103, 'cost': 110},\n",
    "    'adwords': {'revenue': 35, 'cost': 34},\n",
    "    'twitter': {'revenue': 11, 'cost': 24},\n",
    "}\n",
    "\n",
    "C={'ROI':1}\n",
    "print(\"{\")\n",
    "for key,data in results.items():\n",
    "    C['ROI'] = round( (data['revenue'] / data['cost'] - 1) * 100,2 )\n",
    "    if debug:print(data['revenue'],data['cost'],C['ROI'])\n",
    "    C.update(data)\n",
    "    if debug:print(C)\n",
    "    results[key]=C\n",
    "    if debug:print(results)\n",
    "    if debug:break    \n",
    "    print(\"{0}: {1}\".format(key,C))\n",
    "print(\"}\")\n"
   ]
  },
  {
   "cell_type": "markdown",
   "metadata": {},
   "source": [
    "## Задание 4\n",
    "Дана переменная, в которой хранится статистика рекламных каналов по объемам продаж (пример структуры данных приведен ниже). Напишите программу, которая возвращает название канала с максимальным объемом продаж.\n",
    "\n",
    "Пример работы программы:  \n",
    "\n",
    "`stats = {'facebook': 55, 'yandex': 115, 'vk': 120, 'google': 99, 'email': 42, 'ok': 98}`\n",
    "\n",
    "Результат: \n",
    "`Максимальный объем продаж на рекламном канале: vk`"
   ]
  },
  {
   "cell_type": "code",
   "execution_count": 68,
   "metadata": {},
   "outputs": [
    {
     "name": "stdout",
     "output_type": "stream",
     "text": [
      "Максимальный объем продаж на рекламном канале: facebook\n"
     ]
    }
   ],
   "source": [
    "# ----------- Решение сходу\n",
    "stats = {'facebook': 550, 'yandex': 115, 'vk': 120, 'google': 99, 'email': 42, 'ok': 98}\n",
    "\n",
    "Key = ''\n",
    "Value = 0\n",
    "\n",
    "for key,data in stats.items():\n",
    "        if data > Value:\n",
    "            Value = data\n",
    "            Key = key\n",
    "            \n",
    "print('Максимальный объем продаж на рекламном канале:', Key)"
   ]
  },
  {
   "cell_type": "code",
   "execution_count": 73,
   "metadata": {},
   "outputs": [
    {
     "name": "stdout",
     "output_type": "stream",
     "text": [
      "Максимальный объем продаж на рекламном канале: yandex\n"
     ]
    }
   ],
   "source": [
    "# ----------- Решение сложнее\n",
    "stats = {'facebook': 550, 'yandex': 1150, 'vk': 120, 'google': 99, 'email': 42, 'ok': 98}\n",
    "\n",
    "B=max(stats.values())\n",
    "\n",
    "for key in stats:\n",
    "    if stats[key]==B: \n",
    "        print('Максимальный объем продаж на рекламном канале:', key)\n",
    "        break\n"
   ]
  },
  {
   "cell_type": "code",
   "execution_count": 92,
   "metadata": {},
   "outputs": [
    {
     "name": "stdout",
     "output_type": "stream",
     "text": [
      "Максимальный объем продаж на рекламном канале: facebook\n"
     ]
    }
   ],
   "source": [
    "# ----------- Решение еще сложнее\n",
    "stats = {'facebook': 550, 'yandex': 115, 'vk': 120, 'google': 99, 'email': 42, 'ok': 98}\n",
    "\n",
    "C=sorted(stats.items(),key=lambda kv:kv[1],reverse=True)#Список сортированный\n",
    "C[0][0] # первый ключ.\n",
    "print('Максимальный объем продаж на рекламном канале:', C[0][0])"
   ]
  },
  {
   "cell_type": "markdown",
   "metadata": {},
   "source": [
    "## Задание 5 (необязательно)\n",
    "Дан список произвольной длины. Необходимо написать код, который на основе исходного списка составит словарь такого уровня вложенности, какова длина исхондого списка.\n",
    "\n",
    "Примеры работы программы:  \n",
    "\n",
    "1. `my_list = ['2018-01-01', 'yandex', 'cpc', 100]`\n",
    "\n",
    "Результат: \n",
    "`{'2018-01-01': {'yandex': {'cpc': 100}}}`\n",
    "\n",
    "2. `my_list = ['a', 'b', 'c', 'd', 'e', 'f']`\n",
    "\n",
    "Результат: \n",
    "`{'a': {'b': {'c': {'d': {'e': 'f'}}}}}`"
   ]
  },
  {
   "cell_type": "code",
   "execution_count": 4,
   "metadata": {},
   "outputs": [
    {
     "name": "stdout",
     "output_type": "stream",
     "text": [
      "{'2018-01-01': {'yandex': {'cpc': 100}}}\n"
     ]
    }
   ],
   "source": [
    "my_list = ['2018-01-01', 'yandex', 'cpc', 100]\n",
    "\n",
    "#---------Решение---------\n",
    "debug = False #Для дебага, аналог #ifdef\n",
    "\n",
    "if debug:\n",
    "    a=len(my_list)\n",
    "    print(a)\n",
    "    print(my_list[-1])\n",
    "\n",
    "A={my_list[-2]:my_list[-1]}\n",
    " \n",
    "if debug:print(A)\n",
    "\n",
    "for i in range(-2,-len(my_list),-1):\n",
    "    \n",
    "    B={my_list[i-1]:A}\n",
    "    A=B\n",
    "    \n",
    "    if debug:print(B)\n",
    "\n",
    "print(B)  \n"
   ]
  },
  {
   "cell_type": "markdown",
   "metadata": {},
   "source": [
    "## Задание 6 (необязательно)\n",
    "Дана книга рецептов с информацией о том, сколько ингредиентов нужно для приготовления блюда в расчете на одну порцию (пример данных представлен ниже).  \n",
    "Напишите программу, которая будет запрашивать у пользователя количество порций для приготовления этих блюд и отображать информацию о суммарном количестве требуемых ингредиентов в указанном виде.  \n",
    "**Внимание!** Одинаковые ингридиенты с разными размерностями нужно считать раздельно!  \n",
    "Пример работы программы:  \n",
    "```\n",
    "cook_book = {\n",
    "  'салат': [\n",
    "     {'ingridient_name': 'сыр', 'quantity': 50, 'measure': 'гр'},\n",
    "     {'ingridient_name': 'томаты', 'quantity': 2, 'measure': 'шт'},\n",
    "     {'ingridient_name': 'огурцы', 'quantity': 20, 'measure': 'гр'},\n",
    "     {'ingridient_name': 'маслины', 'quantity': 10, 'measure': 'гр'},\n",
    "     {'ingridient_name': 'оливковое масло', 'quantity': 20, 'measure': 'мл'},\n",
    "     {'ingridient_name': 'салат', 'quantity': 10, 'measure': 'гр'},\n",
    "     {'ingridient_name': 'перец', 'quantity': 20, 'measure': 'гр'}\n",
    "    ],\n",
    "  'пицца': [\n",
    "     {'ingridient_name': 'сыр', 'quantity': 20, 'measure': 'гр'},\n",
    "     {'ingridient_name': 'колбаса', 'quantity': 30, 'measure': 'гр'},\n",
    "     {'ingridient_name': 'бекон', 'quantity': 30, 'measure': 'гр'},\n",
    "     {'ingridient_name': 'оливки', 'quantity': 10, 'measure': 'гр'},\n",
    "     {'ingridient_name': 'томаты', 'quantity': 20, 'measure': 'гр'},\n",
    "     {'ingridient_name': 'тесто', 'quantity': 100, 'measure': 'гр'},   \n",
    "    ],\n",
    "  'лимонад': [\n",
    "     {'ingridient_name': 'лимон', 'quantity': 1, 'measure': 'шт'},\n",
    "     {'ingridient_name': 'вода', 'quantity': 200, 'measure': 'мл'},\n",
    "     {'ingridient_name': 'сахар', 'quantity': 10, 'measure': 'гр'},\n",
    "     {'ingridient_name': 'лайм', 'quantity': 20, 'measure': 'гр'},    \n",
    "    ]\n",
    "}\n",
    "\n",
    "Введите количество порций:  \n",
    "3\n",
    "```\n",
    "\n",
    "\n",
    "Результат: \n",
    "```\n",
    "Сыр: 210 гр  \n",
    "Томаты: 6 шт  \n",
    "Огурцы: 60 гр  \n",
    "Маслины: 30 гр  \n",
    "Оливковое масло: 60 мл  \n",
    "Салат: 30 гр  \n",
    "Перец: 60 гр  \n",
    "Колбаса: 90 гр  \n",
    "Бекон: 90 гр  \n",
    "Оливки: 30 гр  \n",
    "Томаты: 60 гр  \n",
    "Тесто: 300 гр  \n",
    "Лимон: 3 шт  \n",
    "Вода: 600 мл  \n",
    "Сахар: 30 гр  \n",
    "Лайм: 60 гр  \n",
    "```"
   ]
  },
  {
   "cell_type": "code",
   "execution_count": 5,
   "metadata": {},
   "outputs": [
    {
     "name": "stdout",
     "output_type": "stream",
     "text": [
      "Введите количество порций: 2\n",
      "2\n",
      "\n",
      "сыр : 140 гр\n",
      "томаты : 4 шт\n",
      "огурцы : 40 гр\n",
      "маслины : 20 гр\n",
      "оливковое масло : 40 мл\n",
      "салат : 20 гр\n",
      "перец : 40 гр\n",
      "колбаса : 60 гр\n",
      "бекон : 60 гр\n",
      "оливки : 20 гр\n",
      "томаты : 40 гр\n",
      "тесто : 200 гр\n",
      "лимон : 2 шт\n",
      "вода : 400 мл\n",
      "сахар : 20 гр\n",
      "лайм : 40 гр\n"
     ]
    }
   ],
   "source": [
    "cook_book = {\n",
    "  'салат': [\n",
    "     {'ingridient_name': 'сыр', 'quantity': 50, 'measure': 'гр'},\n",
    "     {'ingridient_name': 'томаты', 'quantity': 2, 'measure': 'шт'},\n",
    "     {'ingridient_name': 'огурцы', 'quantity': 20, 'measure': 'гр'},\n",
    "     {'ingridient_name': 'маслины', 'quantity': 10, 'measure': 'гр'},\n",
    "     {'ingridient_name': 'оливковое масло', 'quantity': 20, 'measure': 'мл'},\n",
    "     {'ingridient_name': 'салат', 'quantity': 10, 'measure': 'гр'},\n",
    "     {'ingridient_name': 'перец', 'quantity': 20, 'measure': 'гр'}\n",
    "    ],\n",
    "  'пицца': [\n",
    "     {'ingridient_name': 'сыр', 'quantity': 20, 'measure': 'гр'},\n",
    "     {'ingridient_name': 'колбаса', 'quantity': 30, 'measure': 'гр'},\n",
    "     {'ingridient_name': 'бекон', 'quantity': 30, 'measure': 'гр'},\n",
    "     {'ingridient_name': 'оливки', 'quantity': 10, 'measure': 'гр'},\n",
    "     {'ingridient_name': 'томаты', 'quantity': 20, 'measure': 'гр'},\n",
    "     {'ingridient_name': 'тесто', 'quantity': 100, 'measure': 'гр'},   \n",
    "    ],\n",
    "  'лимонад': [\n",
    "     {'ingridient_name': 'лимон', 'quantity': 1, 'measure': 'шт'},\n",
    "     {'ingridient_name': 'вода', 'quantity': 200, 'measure': 'мл'},\n",
    "     {'ingridient_name': 'сахар', 'quantity': 10, 'measure': 'гр'},\n",
    "     {'ingridient_name': 'лайм', 'quantity': 20, 'measure': 'гр'},    \n",
    "    ]\n",
    "}\n",
    "\n",
    "#---------Решение---------\n",
    "debug = False #Для дебага\n",
    "\n",
    "A={} #Все ингридиенты\n",
    "\n",
    "for recipe in cook_book:\n",
    "    if debug:print(len(cook_book[recipe]))  \n",
    "    for i in range(len(cook_book[recipe])):        \n",
    "        if debug:print(cook_book[recipe][i], end = '\\n')       \n",
    "        name = cook_book[recipe][i]['ingridient_name']\n",
    "        qty = cook_book[recipe][i]['quantity']\n",
    "        m = cook_book[recipe][i]['measure']       \n",
    "        if debug:print(name,qty,m)        \n",
    "        if (name,m) in A:\n",
    "            if debug: print('Уже есть')\n",
    "            A[(name,m)] += qty\n",
    "        else: A[(name,m)] = qty            \n",
    "\n",
    "if debug:\n",
    "    print()\n",
    "    for key,data in A.items():\n",
    "         print(\"{0}: {1}\".format(key,data))   \n",
    "                \n",
    "User_persons=int(input('Введите количество порций: '))\n",
    "print(User_persons)\n",
    "print()\n",
    "\n",
    "for key1,key2 in A.keys():\n",
    "    print(f'{key1} : {A[(key1,key2)] * User_persons} {key2}')"
   ]
  },
  {
   "cell_type": "markdown",
   "metadata": {},
   "source": [
    "#### ПРИМЕЧАНИЕ\n",
    "Домашнее задание сдается ссылкой на репозиторий [GitHub](https://github.com/).\n",
    "Не сможем проверить или помочь, если вы пришлете:\n",
    "- файлы;\n",
    "- архивы;\n",
    "- скриншоты кода.\n",
    "\n",
    "Все обсуждения и консультации по выполнению домашнего задания ведутся только на соответствующем канале в slack.\n",
    "\n",
    "##### Как правильно задавать вопросы аспирантам, преподавателям и коллегам\n",
    "Прежде чем задать вопрос, попробуйте найти ответ в интернете. Навык самостоятельного поиска информации — один из важнейших. Каждый практикующий специалист любого уровня делает это ежедневно.\n",
    "\n",
    "Сформулируйте вопрос по алгоритму:  \n",
    "1) Что я делаю?  \n",
    "2) Какого результата я ожидаю?  \n",
    "3) Как фактический результат отличается от ожидаемого?  \n",
    "4) Что я уже попробовал сделать, чтобы исправить проблему?  \n",
    "\n",
    "По возможности прикрепите к вопросу скриншоты либо ссылки на код. Не выкладывайте все решение, оставляйте только проблемный и воспроизводимый участок кода."
   ]
  }
 ],
 "metadata": {
  "kernelspec": {
   "display_name": "Python 3",
   "language": "python",
   "name": "python3"
  },
  "language_info": {
   "codemirror_mode": {
    "name": "ipython",
    "version": 3
   },
   "file_extension": ".py",
   "mimetype": "text/x-python",
   "name": "python",
   "nbconvert_exporter": "python",
   "pygments_lexer": "ipython3",
   "version": "3.8.5"
  }
 },
 "nbformat": 4,
 "nbformat_minor": 2
}
